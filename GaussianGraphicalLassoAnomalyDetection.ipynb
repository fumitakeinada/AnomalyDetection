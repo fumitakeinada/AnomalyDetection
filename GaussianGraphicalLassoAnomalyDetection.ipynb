{
 "cells": [
  {
   "cell_type": "markdown",
   "metadata": {},
   "source": [
    "# ガウス型グラフィカルラッソによる異常検知"
   ]
  },
  {
   "cell_type": "markdown",
   "metadata": {},
   "source": [
    "## 外れ値検出問題の場合\n",
    "\n",
    "「異常検知と変化検知（講談社　井出　剛著）」\n",
    "10.5.1 外れ値解析の場合　\n",
    "より\n",
    "\n",
    "異常度の算出式は以下\n",
    "\n",
    "$\\displaystyle a_i \\equiv -\\ln p ({x'}_i | \\mathbf{x'}_{-i},\\mathcal{D}) = \\frac{1}{2}\\ln \\frac{2\\pi}{\\Lambda_{i,i}} + \\frac{1}{2\\Lambda_{i,i}}(\\sum_{j=1}^M \\Lambda_{i,j}{x'}_j)^2$\n",
    "\n",
    "\n",
    "ホテリングT^2法に従い、異常度の算出する場合は前半部分を省略し、以下\n",
    "\n",
    "$\\displaystyle a_i \\equiv \\frac{1}{\\Lambda_{i,i}}(\\sum_{j=1}^M \\Lambda_{i,j}{x'}_j)^2$\n",
    "\n",
    "\n",
    "上記は各変数を個別に求める式であるが、各変数の異常度を一度に求める場合は、以下のような式になる。 \n",
    "\n",
    "(正確には$\\frac{1}{(\\Lambda_{1,1},\\Lambda_{2,2},\\dots,\\Lambda_{M,M})}$部分はベクトルなので、$\\boldsymbol{X'}$のデータ数（行数）に合わせて、展開される必要がある。\n",
    "\n",
    "よって展開はnumpyで自動的に行う）\n",
    " \n",
    " $\\boldsymbol{a} \\equiv \\frac{1}{2} \\ln \\frac{2\\pi}{(\\Lambda_{1,1},\\Lambda_{2,2},\\dots,\\Lambda_{M,M})} + \\frac{1}{2(\\Lambda_{1,1},\\Lambda_{2,2},\\dots,\\Lambda_{M,M})}\\odot(\\boldsymbol{X'} \\cdot \\Lambda^T)^2$\n",
    " \n",
    "ホテリングT^2法では以下となる。\n",
    "  \n",
    "$\\boldsymbol{a} \\equiv \\frac{1}{(\\Lambda_{1,1},\\Lambda_{2,2},\\dots,\\Lambda_{M,M})}\\odot(\\boldsymbol{X'} \\cdot \\Lambda^T)^2$\n",
    "  \n",
    "よって行列計算を行う形式にする。"
   ]
  },
  {
   "cell_type": "markdown",
   "metadata": {},
   "source": [
    "ガウス型グラフィカルラッソをScikit-LearnのGraphialLassoによって求め、そこから外れ値検出の異常度を求めるクラスを作成"
   ]
  },
  {
   "cell_type": "code",
   "execution_count": 52,
   "metadata": {},
   "outputs": [],
   "source": [
    "from sklearn.preprocessing import StandardScaler\n",
    "from sklearn.covariance import GraphicalLasso\n",
    "\n",
    "import numpy as np\n",
    "from enum import Enum, auto\n",
    "\n",
    "# 異常度の選択の列挙型\n",
    "class OutlierDetectionAnomalyScoreType(Enum):\n",
    "    NORMAL = auto() # 通常の算出\n",
    "    HT2 = auto() # ホテリングT^2法\n",
    "\n",
    "# ガウス型グラフィカルラッソによる異常検知クラス\n",
    "class GaussianGraphicalLassoAnomalyDetection():\n",
    "    # run_glを実行してから、get_anorm_scoresを実行する。\n",
    "    \n",
    "    # コンストラクタ\n",
    "    # 訓練データを入れておく。\n",
    "    def __init__(self, X_train):\n",
    "        self.X_train = X_train\n",
    "        \n",
    "        # 標準化        \n",
    "        self.std = StandardScaler()\n",
    "        self.stdX_train = self.std.fit_transform(X_train)\n",
    "        \n",
    "        pass\n",
    "    \n",
    "    # 訓練データに対するグラフィカルラッソの実行(分散共分散行列、精度行列の取得)\n",
    "    def run_gl(self, alpha=0.6, max_iter=50):\n",
    "        # グラフィカルラッソの実行\n",
    "        gl = GraphicalLasso(alpha=alpha, max_iter=max_iter).fit(self.stdX_train)\n",
    "        \n",
    "        # 算出した分散共分散行列と精度行列をインスタンス変数に格納\n",
    "        self.cov = gl.covariance_\n",
    "        self.prec = gl.precision_\n",
    "\n",
    "        return self.cov, self.prec\n",
    "    \n",
    "    #　numpyデータに対しての外れ値検出の異常度の算出\n",
    "    # X_testの列数とprecの列数は一致する必要がある。\n",
    "    def get_outlier_detection_anomaly_scores(self, X_test, score_type=OutlierDetectionAnomalyScoreType.HT2):\n",
    "        \n",
    "        # テストデータを標準化（訓練データを元にする）\n",
    "        stdX_test = self.std.transform(X_test)\n",
    "        \n",
    "        get_score_select = {\n",
    "            # ホテリングT^2による異常度(第一項を無視し、２をかけた形式)\n",
    "            # Sum部分は行列内積で代用\n",
    "            OutlierDetectionAnomalyScoreType.HT2 :\n",
    "                lambda X, prec : (1/np.diag(prec)) * (np.dot(np.nan_to_num(X), prec.T) ** 2),\n",
    "            \n",
    "            # 通常の異常度 (後半部分はホテリングT^2の計算を利用)\n",
    "            OutlierDetectionAnomalyScoreType.NORMAL:\n",
    "                lambda X, prec : (0.5 * np.log(2 * np.pi / np.diag(prec))) + (0.5 * get_score_select[OutlierDetectionAnomalyScoreType.HT2](X, prec))\n",
    "        }\n",
    "        self.outlier_detection_anomaly_scores = get_score_select[score_type](stdX_test, self.prec)\n",
    "        return self.outlier_detection_anomaly_scores\n",
    "    \n",
    "    # 異常度が閾値を超えたかどうかをTrue,Falseで取得\n",
    "    def islogical_outlier_detection_anomaly(self, a_th):\n",
    "        return np.where(self.outlier_detection_anomaly_scores >= a_th, True, False)"
   ]
  },
  {
   "cell_type": "code",
   "execution_count": null,
   "metadata": {},
   "outputs": [],
   "source": []
  }
 ],
 "metadata": {
  "kernelspec": {
   "display_name": "Python 3",
   "language": "python",
   "name": "python3"
  },
  "language_info": {
   "codemirror_mode": {
    "name": "ipython",
    "version": 3
   },
   "file_extension": ".py",
   "mimetype": "text/x-python",
   "name": "python",
   "nbconvert_exporter": "python",
   "pygments_lexer": "ipython3",
   "version": "3.7.3"
  }
 },
 "nbformat": 4,
 "nbformat_minor": 2
}
